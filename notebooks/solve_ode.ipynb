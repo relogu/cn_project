{
 "cells": [
  {
   "cell_type": "markdown",
   "metadata": {},
   "source": [
    "# Solve the network dynamics\n"
   ]
  },
  {
   "cell_type": "code",
   "execution_count": null,
   "metadata": {},
   "outputs": [],
   "source": [
    "import numpy as np\n",
    "import pandas as pd\n",
    "from collections import Counter\n",
    "from scipy.stats import bernoulli, loguniform\n",
    "from scipy.integrate import solve_ivp\n",
    "import matplotlib.pyplot as plt\n",
    "import networkx as nx\n",
    "from functools import partial\n",
    "from pathlib import Path\n",
    "from tqdm.notebook import tqdm\n",
    "plt.style.use('seaborn-poster')\n",
    "\n",
    "## These following have to be customized\n",
    "PATH_TO_DATA = Path('../data')\n",
    "# method for solving ODE\n",
    "METHOD = 'RK45'\n",
    "# number of days of collection of articles\n",
    "N_DAYS = 30\n",
    "TIME_THRESHOLD = 9 # in days"
   ]
  },
  {
   "cell_type": "code",
   "execution_count": null,
   "metadata": {},
   "outputs": [],
   "source": [
    "%matplotlib inline"
   ]
  },
  {
   "cell_type": "markdown",
   "metadata": {},
   "source": [
    "TODO: describe function."
   ]
  },
  {
   "cell_type": "code",
   "execution_count": null,
   "metadata": {},
   "outputs": [],
   "source": [
    "def media_recit(G):\n",
    "    list_c = []\n",
    "    for node in G.nodes():\n",
    "        dates_list = [G.nodes()._nodes[j]['timestamp'] for j in G.successors(node)]\n",
    "        if dates_list != []:\n",
    "            delta_t = max(dates_list) - G.nodes()._nodes[node]['timestamp']\n",
    "            dif = delta_t.total_seconds()/(3600*24)\n",
    "            if dif > TIME_THRESHOLD:\n",
    "                print(node)\n",
    "            list_c.append([G.nodes()._nodes[node]['timestamp'].date(),dif])\n",
    "        else:\n",
    "            list_c.append([G.nodes()._nodes[node]['timestamp'].date(),0])\n",
    "    return list_c"
   ]
  },
  {
   "cell_type": "markdown",
   "metadata": {},
   "source": [
    "The following function is used for solving the ODE."
   ]
  },
  {
   "cell_type": "code",
   "execution_count": null,
   "metadata": {},
   "outputs": [],
   "source": [
    "def fun(\n",
    "    t, # timestep\n",
    "    y, # old state\n",
    "    pars, # ODE fixed parameters\n",
    "):\n",
    "    # Get the old state, numpify it\n",
    "    y = np.array(y)\n",
    "    # Separate infected (i) and susceptibles (s)\n",
    "    i, s = y[:total_articles], y[total_articles:]\n",
    "    # Get ODE fixed parameters, i.e. lambda and a_ij\n",
    "    A, lamb = pars\n",
    "    # Get contacts vectors\n",
    "    M =  (i * A).sum(axis=1)\n",
    "    # Get trasmission scusceptibles\n",
    "    N = lamb * s\n",
    "    # Get new infected\n",
    "    Q = N*M\n",
    "    # Propagate for getting delta infected\n",
    "    dI = -i + Q\n",
    "    # Propagate for getting delta susceptible\n",
    "    dS = -Q\n",
    "    # Return new state\n",
    "    return np.hstack((dI,dS))"
   ]
  },
  {
   "cell_type": "markdown",
   "metadata": {},
   "source": [
    "Function for retrieving infected and suceptibles probabilities for every timestep from the solutions of the ODE."
   ]
  },
  {
   "cell_type": "code",
   "execution_count": null,
   "metadata": {},
   "outputs": [],
   "source": [
    "def create_dI(sol):\n",
    "    dI, dS = sol.y[:total_articles, :], sol.y[total_articles:, :]\n",
    "    return dI, dS"
   ]
  },
  {
   "cell_type": "markdown",
   "metadata": {},
   "source": [
    "Function for inferring effectively infected articles for every timestep from infected and suceptibles probabilities retrieved from ODE solutions."
   ]
  },
  {
   "cell_type": "code",
   "execution_count": null,
   "metadata": {},
   "outputs": [],
   "source": [
    "def create_infects(dI,dS):\n",
    "    dR = 1-dI+dS\n",
    "\n",
    "    Infects = np.zeros(dI.shape)\n",
    "    Infects[:,0] = dI[:,0]\n",
    "\n",
    "    S0 = dS[:,0] - Infects[:,0]\n",
    "    R0 = np.zeros(dI.shape[0])\n",
    "    I0 = Infects[:,0]\n",
    "\n",
    "    for t in range(1,TIMESTEPS):\n",
    "        a = dI[:,t]*S0\n",
    "        a[a<0] = 0.0\n",
    "        a[a>1.0] = 1.0\n",
    "        b = dR[:,t]*I0\n",
    "        b[b<0] = 0.0\n",
    "        b[b>1.0] = 1.0\n",
    "        I = bernoulli.rvs(a)\n",
    "        R = bernoulli.rvs(b)\n",
    "\n",
    "        Infects[:,t] = I0 - R + I\n",
    "        a = Infects[:,t]\n",
    "\n",
    "        if len(a[a<0]) > 0:\n",
    "            b = I0-R\n",
    "            if len(b[b<0])>0:\n",
    "                print('ei')\n",
    "\n",
    "\n",
    "        I0 = Infects[:,t]\n",
    "        S0 = S0 - I\n",
    "\n",
    "    return Infects"
   ]
  },
  {
   "cell_type": "markdown",
   "metadata": {},
   "source": [
    "## Loading data"
   ]
  },
  {
   "cell_type": "code",
   "execution_count": null,
   "metadata": {},
   "outputs": [],
   "source": [
    "files = [\n",
    "    'dists_triu.csv',\n",
    "    'info_df.csv',\n",
    "    'empirical_graph.gpickle',\n",
    "    'empirical_graph_nodes.csv',\n",
    "    'graph_original_domains_each_node.txt',\n",
    "    'graph_complete.csv',\n",
    "    'i0.csv',\n",
    "    'dI.csv',\n",
    "    'Infects.csv',\n",
    "    ]\n",
    "stories = [\n",
    "    'world_russia',\n",
    "    'world_norway',\n",
    "    'world_capitol_hill',\n",
    "]\n",
    "story_to_elaborate = 0"
   ]
  },
  {
   "cell_type": "markdown",
   "metadata": {},
   "source": [
    "Retrieve saved graphs and initial values from `graph_init.ipynb`"
   ]
  },
  {
   "cell_type": "code",
   "execution_count": null,
   "metadata": {},
   "outputs": [],
   "source": [
    "with open(PATH_TO_DATA/stories[story_to_elaborate]/files[5]) as file:\n",
    "    G = np.loadtxt(file, delimiter=\",\")\n",
    "G.sum(1)"
   ]
  },
  {
   "cell_type": "code",
   "execution_count": null,
   "metadata": {},
   "outputs": [],
   "source": [
    "O = nx.read_gpickle(PATH_TO_DATA/stories[story_to_elaborate]/files[2])\n",
    "O"
   ]
  },
  {
   "cell_type": "code",
   "execution_count": null,
   "metadata": {},
   "outputs": [],
   "source": [
    "with open(PATH_TO_DATA/stories[story_to_elaborate]/files[3]) as file:\n",
    "    nodes = pd.read_csv(file, delimiter=\",\").drop(['Unnamed: 0'], 1)\n",
    "nodes.head()"
   ]
  },
  {
   "cell_type": "code",
   "execution_count": null,
   "metadata": {},
   "outputs": [],
   "source": [
    "with open(PATH_TO_DATA/stories[story_to_elaborate]/files[4]) as f:\n",
    "    domains = f.read().splitlines()\n",
    "len(domains)"
   ]
  },
  {
   "cell_type": "code",
   "execution_count": null,
   "metadata": {},
   "outputs": [],
   "source": [
    "eig = np.linalg.eig(G)[0].max()\n",
    "eig"
   ]
  },
  {
   "cell_type": "code",
   "execution_count": null,
   "metadata": {},
   "outputs": [],
   "source": [
    "with open(PATH_TO_DATA/stories[story_to_elaborate]/files[6]) as f:\n",
    "    i0 = np.loadtxt(f, delimiter=\",\")\n",
    "s0 = 1-i0\n",
    "total_articles = len(i0)\n",
    "i0"
   ]
  },
  {
   "cell_type": "markdown",
   "metadata": {},
   "source": [
    "## Finding $\\mu$ and $\\Delta t$"
   ]
  },
  {
   "cell_type": "code",
   "execution_count": null,
   "metadata": {},
   "outputs": [],
   "source": [
    "a = media_recit(O)\n",
    "b = [i[1] for i in a]\n",
    "fig = plt.figure(figsize=(15,8))\n",
    "plt.hist(b, bins='auto')\n",
    "plt.plot()\n",
    "plt.grid()\n",
    "plt.show()"
   ]
  },
  {
   "cell_type": "code",
   "execution_count": null,
   "metadata": {},
   "outputs": [],
   "source": [
    "DT = 1/np.mean(b)\n",
    "DT"
   ]
  },
  {
   "cell_type": "code",
   "execution_count": null,
   "metadata": {},
   "outputs": [],
   "source": [
    "TIMESTEPS = int((N_DAYS+1)/DT)\n",
    "TIMESTEPS"
   ]
  },
  {
   "cell_type": "markdown",
   "metadata": {},
   "source": [
    "## Finding $\\lambda$"
   ]
  },
  {
   "cell_type": "code",
   "execution_count": null,
   "metadata": {},
   "outputs": [],
   "source": [
    "time_list = [O.nodes()._nodes[j]['timestamp'] for j in O.nodes()] \n",
    "dic = Counter(time_list)\n",
    "t0 = min(time_list)\n",
    "d = []\n",
    "for pos,i in enumerate(time_list):\n",
    "    dif = time_list[pos].date() - t0.date()\n",
    "    d.append(dif.days)\n",
    "    \n",
    "dic = Counter(d)\n",
    "p=[]\n",
    "q=[]\n",
    "i=0\n",
    "\n",
    "while len(q) < max(dic)+1: \n",
    "    q.append(dic[i])\n",
    "    i += 1\n",
    "\n",
    "print('Max value of infected is {}'.format(max(q)))\n",
    "\n",
    "fig = plt.figure(figsize=(15,8))\n",
    "plt.plot(q)\n",
    "plt.xlabel('time (days)')\n",
    "plt.ylabel('articles published')\n",
    "plt.grid()\n",
    "plt.show()"
   ]
  },
  {
   "cell_type": "markdown",
   "metadata": {},
   "source": [
    "Solving for some values of $\\lambda$ the ODE and retrieving the maximum number of infected for every history.\n",
    "The proper value of $\\lambda$ to use is that for which the maximum number of infected corresponds to the real maximum number of infected."
   ]
  },
  {
   "cell_type": "code",
   "execution_count": null,
   "metadata": {},
   "outputs": [],
   "source": [
    "lambdas = loguniform.rvs(1e-7, 1, size=10)\n",
    "print(lambdas)\n",
    "lambdas_iterator = tqdm(\n",
    "    lambdas,\n",
    "    leave=True,\n",
    "    unit='lambdas',\n",
    ")\n",
    "y = []\n",
    "# N_DAYS = 30\n",
    "# TIMESTEPS = 500\n",
    "for l in lambdas_iterator:\n",
    "    f = partial(fun, pars=(G, l))\n",
    "    sol = solve_ivp(\n",
    "        fun=f,\n",
    "        t_span=[0,N_DAYS],\n",
    "        y0=list(i0)+list(s0),\n",
    "        method=METHOD,\n",
    "        t_eval=np.linspace(0,N_DAYS,TIMESTEPS))\n",
    "    dI, dS = create_dI(sol)\n",
    "    Infects = create_infects(dI,dS)\n",
    "    y.append(np.max(Infects.sum(axis=0)))"
   ]
  },
  {
   "cell_type": "code",
   "execution_count": null,
   "metadata": {},
   "outputs": [],
   "source": [
    "fig = plt.figure(figsize=(15,8))\n",
    "# plt.plot(len(lambdas)*[8.12645449413e-06], y,'--') # ??\n",
    "# plt.plot(len(lambdas)*[LAMBDA], y, '--')\n",
    "plt.legend(['article lambda', 'lambda used'], loc=4)\n",
    "plt.plot(lambdas,y,'ro')\n",
    "plt.xlabel('lambda',size=12)\n",
    "plt.ylabel('number of articles at max(rho)', size=12)\n",
    "plt.\n",
    "plt.grid()\n",
    "plt.savefig(PATH_TO_DATA/'lambda_validation', dpi=300)"
   ]
  },
  {
   "cell_type": "markdown",
   "metadata": {},
   "source": [
    "Set the value of $\\lambda$."
   ]
  },
  {
   "cell_type": "code",
   "execution_count": null,
   "metadata": {},
   "outputs": [],
   "source": [
    "LAMBDA = 0.06#1.0#0.0000215"
   ]
  },
  {
   "cell_type": "markdown",
   "metadata": {},
   "source": [
    "Run a simulation for the set value of $\\lambda$ for plotting probaibilities' time evolutions."
   ]
  },
  {
   "cell_type": "code",
   "execution_count": null,
   "metadata": {},
   "outputs": [],
   "source": [
    "f = partial(fun, pars=(G, LAMBDA))\n",
    "sol = solve_ivp(\n",
    "    fun=f,\n",
    "    t_span=[0,N_DAYS],\n",
    "    y0=list(i0)+list(s0),\n",
    "    method=METHOD,\n",
    "    t_eval=np.linspace(0,N_DAYS,TIMESTEPS))\n",
    "#sol"
   ]
  },
  {
   "cell_type": "code",
   "execution_count": null,
   "metadata": {},
   "outputs": [],
   "source": [
    "sol_infected, sol_susceptibles = sol.y[:total_articles, :], sol.y[total_articles:, :]\n",
    "articles_to_plot = np.random.choice(range(total_articles), 10)\n",
    "articles_to_plot = range(total_articles)\n",
    "plt.figure(figsize = (10, 8))\n",
    "[plt.plot(sol.t, sol_infected[i, :]) for i in articles_to_plot]\n",
    "plt.xlabel('time')\n",
    "plt.ylabel('P(I)')\n",
    "# plt.legend(['solution {}'.format(i) for i in articles_to_plot])\n",
    "plt.grid(True)\n",
    "plt.show()\n",
    "\n",
    "plt.figure(figsize = (10, 8))\n",
    "[plt.plot(sol.t, sol_susceptibles[i, :]) for i in articles_to_plot]\n",
    "plt.xlabel('time')\n",
    "plt.ylabel('P(S)')\n",
    "# plt.legend(['solution {}'.format(i) for i in articles_to_plot])\n",
    "plt.grid(True)\n",
    "plt.show()"
   ]
  },
  {
   "cell_type": "markdown",
   "metadata": {},
   "source": [
    "Dump the infected for every timestep form the solution of the ODE."
   ]
  },
  {
   "cell_type": "code",
   "execution_count": null,
   "metadata": {},
   "outputs": [],
   "source": [
    "dI, dS = create_dI(sol)\n",
    "Infects = create_infects(dI,dS)\n",
    "np.savetxt(PATH_TO_DATA/stories[story_to_elaborate]/files[7], dI, delimiter=',')\n",
    "np.savetxt(PATH_TO_DATA/stories[story_to_elaborate]/files[8], Infects, delimiter=',')\n",
    "Infects"
   ]
  },
  {
   "cell_type": "markdown",
   "metadata": {},
   "source": [
    "## Validate the model\n",
    "\n",
    "Run many simulation of the dynamics to plot them with the real evolution to validate the model."
   ]
  },
  {
   "cell_type": "code",
   "execution_count": null,
   "metadata": {},
   "outputs": [],
   "source": [
    "# LAMBDA = 0.4\n",
    "simulations_iterator = tqdm(\n",
    "    range(0,10),\n",
    "    leave=False,\n",
    "    unit='simulations',\n",
    ")\n",
    "\n",
    "all_infects = []\n",
    "for i in simulations_iterator:\n",
    "    f = partial(fun, pars=(G, LAMBDA))\n",
    "    sol = solve_ivp(\n",
    "        fun=f,\n",
    "        t_span=[0,N_DAYS],\n",
    "        y0=list(i0)+list(s0),\n",
    "        method=METHOD,\n",
    "        t_eval=np.linspace(0,N_DAYS,TIMESTEPS))\n",
    "    dI, dS = create_dI(sol)\n",
    "    Infects = create_infects(dI,dS)\n",
    "    all_infects.append(Infects.sum(axis=0))"
   ]
  },
  {
   "cell_type": "code",
   "execution_count": null,
   "metadata": {},
   "outputs": [],
   "source": [
    "simu_plots = [plt.plot(np.linspace(0,N_DAYS,TIMESTEPS), a, 'b', alpha=0.3) for a in all_infects]\n",
    "simu_plots[0][0].set_label('simulated')\n",
    "plt.xlabel('time( days)', size=12)\n",
    "plt.ylabel('number of articles infected', size=12)\n",
    "real_plot = plt.plot(q, 'r', label='empirical')\n",
    "plt.legend()\n",
    "plt.grid()\n",
    "plt.show()\n",
    "plt.savefig(PATH_TO_DATA/'sim_compar.png', dip=300)"
   ]
  },
  {
   "cell_type": "code",
   "execution_count": null,
   "metadata": {},
   "outputs": [],
   "source": []
  }
 ],
 "metadata": {
  "interpreter": {
   "hash": "dd1e9c94448b615a760bc9c3cf750b36b9ab9a397ea85ba08ac48711d7818835"
  },
  "kernelspec": {
   "display_name": "Python 3 (ipykernel)",
   "language": "python",
   "name": "python3"
  },
  "language_info": {
   "codemirror_mode": {
    "name": "ipython",
    "version": 3
   },
   "file_extension": ".py",
   "mimetype": "text/x-python",
   "name": "python",
   "nbconvert_exporter": "python",
   "pygments_lexer": "ipython3",
   "version": "3.9.10"
  }
 },
 "nbformat": 4,
 "nbformat_minor": 4
}
