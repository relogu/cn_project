{
 "cells": [
  {
   "cell_type": "code",
   "execution_count": 1,
   "id": "5747b823-cf56-4939-b9d5-8c86e64c94ac",
   "metadata": {
    "ExecuteTime": {
     "end_time": "2022-01-08T16:30:02.566159Z",
     "start_time": "2022-01-08T16:30:02.205349Z"
    }
   },
   "outputs": [],
   "source": [
    "from pathlib import Path\n",
    "import numpy as np\n",
    "import pandas as pd\n",
    "import networkx as nx\n",
    "import matplotlib.pyplot as plt\n",
    "from scipy.sparse import csr_matrix\n",
    "from ast import literal_eval\n",
    "from sklearn.preprocessing import normalize\n",
    "# import cugraph ## this library works with CUDA-capable GPUs but has many issues"
   ]
  },
  {
   "cell_type": "code",
   "execution_count": 2,
   "id": "e56358e4-c9a4-4086-9152-46bd3bbb4b37",
   "metadata": {
    "ExecuteTime": {
     "end_time": "2022-01-08T16:30:02.608835Z",
     "start_time": "2022-01-08T16:30:02.606698Z"
    }
   },
   "outputs": [],
   "source": [
    "PATH_TO_DATA = Path('../data')"
   ]
  },
  {
   "cell_type": "markdown",
   "id": "3661affa-6965-46d8-ad4a-edcac0022e25",
   "metadata": {},
   "source": [
    "## Creating DataFrames for body and title\n",
    "\n",
    "'PROPERTIES' columns contain the so-called **Word2Vec Model Matrix**, these are going to be converte to numerical using the (fastest possible) mapping via _literal\\_eval_ function.\n",
    "The first 22 values in 'PROPERTIES' fields are to be discarded since they do not represent semantic information about the post (see [here](https://snap.stanford.edu/data/soc-RedditHyperlinks.html)).\n",
    "\n",
    "These steps should take ~35s+70s"
   ]
  },
  {
   "cell_type": "code",
   "execution_count": 3,
   "id": "f7880cce-0cc9-4796-8a47-a8540279ce24",
   "metadata": {
    "ExecuteTime": {
     "end_time": "2022-01-08T16:30:35.843197Z",
     "start_time": "2022-01-08T16:30:04.258432Z"
    }
   },
   "outputs": [
    {
     "data": {
      "text/html": [
       "<div>\n",
       "<style scoped>\n",
       "    .dataframe tbody tr th:only-of-type {\n",
       "        vertical-align: middle;\n",
       "    }\n",
       "\n",
       "    .dataframe tbody tr th {\n",
       "        vertical-align: top;\n",
       "    }\n",
       "\n",
       "    .dataframe thead th {\n",
       "        text-align: right;\n",
       "    }\n",
       "</style>\n",
       "<table border=\"1\" class=\"dataframe\">\n",
       "  <thead>\n",
       "    <tr style=\"text-align: right;\">\n",
       "      <th></th>\n",
       "      <th>SOURCE_SUBREDDIT</th>\n",
       "      <th>TARGET_SUBREDDIT</th>\n",
       "      <th>POST_ID</th>\n",
       "      <th>TIMESTAMP</th>\n",
       "      <th>LINK_SENTIMENT</th>\n",
       "      <th>PROPERTIES</th>\n",
       "    </tr>\n",
       "  </thead>\n",
       "  <tbody>\n",
       "    <tr>\n",
       "      <th>0</th>\n",
       "      <td>leagueoflegends</td>\n",
       "      <td>teamredditteams</td>\n",
       "      <td>1u4nrps</td>\n",
       "      <td>2013-12-31 16:39:58</td>\n",
       "      <td>1</td>\n",
       "      <td>[0.05172413793103448, 0.034482758620689655, 0....</td>\n",
       "    </tr>\n",
       "    <tr>\n",
       "      <th>3</th>\n",
       "      <td>nfl</td>\n",
       "      <td>cfb</td>\n",
       "      <td>1u4sjvs</td>\n",
       "      <td>2013-12-31 17:37:55</td>\n",
       "      <td>1</td>\n",
       "      <td>[0.109375, 0.041666666666666664, 0.03125, 0.0,...</td>\n",
       "    </tr>\n",
       "    <tr>\n",
       "      <th>1</th>\n",
       "      <td>theredlion</td>\n",
       "      <td>soccer</td>\n",
       "      <td>1u4qkd</td>\n",
       "      <td>2013-12-31 18:18:37</td>\n",
       "      <td>-1</td>\n",
       "      <td>[0.06666666666666667, 0.06666666666666667, 0.0...</td>\n",
       "    </tr>\n",
       "    <tr>\n",
       "      <th>5</th>\n",
       "      <td>dogemarket</td>\n",
       "      <td>dogecoin</td>\n",
       "      <td>1u4w7bs</td>\n",
       "      <td>2013-12-31 18:35:44</td>\n",
       "      <td>1</td>\n",
       "      <td>[0.11063829787234042, 0.08085106382978724, 0.0...</td>\n",
       "    </tr>\n",
       "    <tr>\n",
       "      <th>10</th>\n",
       "      <td>gfycat</td>\n",
       "      <td>india</td>\n",
       "      <td>1u5df2s</td>\n",
       "      <td>2013-12-31 22:27:50</td>\n",
       "      <td>1</td>\n",
       "      <td>[0.035211267605633804, 0.02112676056338028, 0....</td>\n",
       "    </tr>\n",
       "    <tr>\n",
       "      <th>...</th>\n",
       "      <td>...</td>\n",
       "      <td>...</td>\n",
       "      <td>...</td>\n",
       "      <td>...</td>\n",
       "      <td>...</td>\n",
       "      <td>...</td>\n",
       "    </tr>\n",
       "    <tr>\n",
       "      <th>286559</th>\n",
       "      <td>electricskateboards</td>\n",
       "      <td>askreddit</td>\n",
       "      <td>68ipb2s</td>\n",
       "      <td>2017-04-30 16:41:53</td>\n",
       "      <td>1</td>\n",
       "      <td>[0.13513513513513514, 0.09009009009009009, 0.0...</td>\n",
       "    </tr>\n",
       "    <tr>\n",
       "      <th>286539</th>\n",
       "      <td>dndbehindthescreen</td>\n",
       "      <td>dndhomebrew</td>\n",
       "      <td>68i9cxs</td>\n",
       "      <td>2017-04-30 16:43:37</td>\n",
       "      <td>1</td>\n",
       "      <td>[0.020737327188940093, 0.0034562211981566822, ...</td>\n",
       "    </tr>\n",
       "    <tr>\n",
       "      <th>286560</th>\n",
       "      <td>mgtow</td>\n",
       "      <td>dataisbeautiful</td>\n",
       "      <td>68ipeos</td>\n",
       "      <td>2017-04-30 16:52:59</td>\n",
       "      <td>1</td>\n",
       "      <td>[0.0718232044198895, 0.022099447513812154, 0.0...</td>\n",
       "    </tr>\n",
       "    <tr>\n",
       "      <th>286558</th>\n",
       "      <td>mmorpg</td>\n",
       "      <td>blackdesertonline</td>\n",
       "      <td>68ip5os</td>\n",
       "      <td>2017-04-30 16:54:08</td>\n",
       "      <td>1</td>\n",
       "      <td>[0.1625615763546798, 0.06403940886699508, 0.02...</td>\n",
       "    </tr>\n",
       "    <tr>\n",
       "      <th>284310</th>\n",
       "      <td>niedski</td>\n",
       "      <td>writingprompts</td>\n",
       "      <td>6739dgs</td>\n",
       "      <td>2017-04-30 16:58:21</td>\n",
       "      <td>1</td>\n",
       "      <td>[0.1353135313531353, 0.0924092409240924, 0.015...</td>\n",
       "    </tr>\n",
       "  </tbody>\n",
       "</table>\n",
       "<p>286561 rows × 6 columns</p>\n",
       "</div>"
      ],
      "text/plain": [
       "           SOURCE_SUBREDDIT   TARGET_SUBREDDIT  POST_ID           TIMESTAMP  \\\n",
       "0           leagueoflegends    teamredditteams  1u4nrps 2013-12-31 16:39:58   \n",
       "3                       nfl                cfb  1u4sjvs 2013-12-31 17:37:55   \n",
       "1                theredlion             soccer   1u4qkd 2013-12-31 18:18:37   \n",
       "5                dogemarket           dogecoin  1u4w7bs 2013-12-31 18:35:44   \n",
       "10                   gfycat              india  1u5df2s 2013-12-31 22:27:50   \n",
       "...                     ...                ...      ...                 ...   \n",
       "286559  electricskateboards          askreddit  68ipb2s 2017-04-30 16:41:53   \n",
       "286539   dndbehindthescreen        dndhomebrew  68i9cxs 2017-04-30 16:43:37   \n",
       "286560                mgtow    dataisbeautiful  68ipeos 2017-04-30 16:52:59   \n",
       "286558               mmorpg  blackdesertonline  68ip5os 2017-04-30 16:54:08   \n",
       "284310              niedski     writingprompts  6739dgs 2017-04-30 16:58:21   \n",
       "\n",
       "        LINK_SENTIMENT                                         PROPERTIES  \n",
       "0                    1  [0.05172413793103448, 0.034482758620689655, 0....  \n",
       "3                    1  [0.109375, 0.041666666666666664, 0.03125, 0.0,...  \n",
       "1                   -1  [0.06666666666666667, 0.06666666666666667, 0.0...  \n",
       "5                    1  [0.11063829787234042, 0.08085106382978724, 0.0...  \n",
       "10                   1  [0.035211267605633804, 0.02112676056338028, 0....  \n",
       "...                ...                                                ...  \n",
       "286559               1  [0.13513513513513514, 0.09009009009009009, 0.0...  \n",
       "286539               1  [0.020737327188940093, 0.0034562211981566822, ...  \n",
       "286560               1  [0.0718232044198895, 0.022099447513812154, 0.0...  \n",
       "286558               1  [0.1625615763546798, 0.06403940886699508, 0.02...  \n",
       "284310               1  [0.1353135313531353, 0.0924092409240924, 0.015...  \n",
       "\n",
       "[286561 rows x 6 columns]"
      ]
     },
     "execution_count": 3,
     "metadata": {},
     "output_type": "execute_result"
    }
   ],
   "source": [
    "body_df = pd.read_csv(PATH_TO_DATA/'soc-redditHyperlinks-body.tsv', sep='\\t', converters={'PROPERTIES': literal_eval})\n",
    "body_df['TIMESTAMP'] = pd.to_datetime(body_df.TIMESTAMP)\n",
    "body_df['PROPERTIES'] = body_df['PROPERTIES'].map(lambda x : np.array(x)[22:])\n",
    "body_df = body_df.sort_values(by='TIMESTAMP')\n",
    "body_df"
   ]
  },
  {
   "cell_type": "code",
   "execution_count": 4,
   "id": "dbbead58-439a-45ca-8e99-6cbb85015192",
   "metadata": {
    "ExecuteTime": {
     "end_time": "2022-01-08T16:31:33.687622Z",
     "start_time": "2022-01-08T16:30:35.844577Z"
    }
   },
   "outputs": [
    {
     "data": {
      "text/html": [
       "<div>\n",
       "<style scoped>\n",
       "    .dataframe tbody tr th:only-of-type {\n",
       "        vertical-align: middle;\n",
       "    }\n",
       "\n",
       "    .dataframe tbody tr th {\n",
       "        vertical-align: top;\n",
       "    }\n",
       "\n",
       "    .dataframe thead th {\n",
       "        text-align: right;\n",
       "    }\n",
       "</style>\n",
       "<table border=\"1\" class=\"dataframe\">\n",
       "  <thead>\n",
       "    <tr style=\"text-align: right;\">\n",
       "      <th></th>\n",
       "      <th>SOURCE_SUBREDDIT</th>\n",
       "      <th>TARGET_SUBREDDIT</th>\n",
       "      <th>POST_ID</th>\n",
       "      <th>TIMESTAMP</th>\n",
       "      <th>LINK_SENTIMENT</th>\n",
       "      <th>PROPERTIES</th>\n",
       "    </tr>\n",
       "  </thead>\n",
       "  <tbody>\n",
       "    <tr>\n",
       "      <th>23</th>\n",
       "      <td>agitation</td>\n",
       "      <td>changemyview</td>\n",
       "      <td>1u5cj7s</td>\n",
       "      <td>2013-12-31 16:20:20</td>\n",
       "      <td>1</td>\n",
       "      <td>[0.0, 0.0, 0.0, 0.0, 0.0, 0.0, 0.0, 0.0, 0.066...</td>\n",
       "    </tr>\n",
       "    <tr>\n",
       "      <th>0</th>\n",
       "      <td>rddtgaming</td>\n",
       "      <td>rddtrust</td>\n",
       "      <td>1u4pzzs</td>\n",
       "      <td>2013-12-31 16:39:18</td>\n",
       "      <td>1</td>\n",
       "      <td>[0.0, 0.0, 0.0, 0.0, 0.0, 0.0, 0.0, 0.0, 0.0, ...</td>\n",
       "    </tr>\n",
       "    <tr>\n",
       "      <th>35</th>\n",
       "      <td>examplesofevil</td>\n",
       "      <td>pics</td>\n",
       "      <td>1u5lhas</td>\n",
       "      <td>2013-12-31 16:40:29</td>\n",
       "      <td>1</td>\n",
       "      <td>[0.125, 0.0, 0.0, 0.0, 0.0, 0.0, 0.0, 0.125, 0...</td>\n",
       "    </tr>\n",
       "    <tr>\n",
       "      <th>26</th>\n",
       "      <td>languagelearning</td>\n",
       "      <td>linguistics</td>\n",
       "      <td>1u5dkls</td>\n",
       "      <td>2013-12-31 17:41:16</td>\n",
       "      <td>1</td>\n",
       "      <td>[0.09090909090909091, 0.045454545454545456, 0....</td>\n",
       "    </tr>\n",
       "    <tr>\n",
       "      <th>1</th>\n",
       "      <td>xboxone</td>\n",
       "      <td>battlefield_4</td>\n",
       "      <td>1u4tmfs</td>\n",
       "      <td>2013-12-31 17:59:11</td>\n",
       "      <td>1</td>\n",
       "      <td>[0.058823529411764705, 0.058823529411764705, 0...</td>\n",
       "    </tr>\n",
       "    <tr>\n",
       "      <th>...</th>\n",
       "      <td>...</td>\n",
       "      <td>...</td>\n",
       "      <td>...</td>\n",
       "      <td>...</td>\n",
       "      <td>...</td>\n",
       "      <td>...</td>\n",
       "    </tr>\n",
       "    <tr>\n",
       "      <th>571894</th>\n",
       "      <td>peoplewhosayheck</td>\n",
       "      <td>re_zero</td>\n",
       "      <td>68igifs</td>\n",
       "      <td>2017-04-30 16:36:07</td>\n",
       "      <td>1</td>\n",
       "      <td>[0.15789473684210525, 0.0, 0.0, 0.0, 0.0, 0.0,...</td>\n",
       "    </tr>\n",
       "    <tr>\n",
       "      <th>571908</th>\n",
       "      <td>peoplewhosayheck</td>\n",
       "      <td>divorce</td>\n",
       "      <td>68ijym</td>\n",
       "      <td>2017-04-30 16:36:07</td>\n",
       "      <td>-1</td>\n",
       "      <td>[0.07142857142857142, 0.07142857142857142, 0.0...</td>\n",
       "    </tr>\n",
       "    <tr>\n",
       "      <th>571902</th>\n",
       "      <td>peoplewhosayheck</td>\n",
       "      <td>teenmom</td>\n",
       "      <td>68ii97s</td>\n",
       "      <td>2017-04-30 16:36:07</td>\n",
       "      <td>1</td>\n",
       "      <td>[0.12, 0.08, 0.0, 0.0, 0.0, 0.08, 0.0, 0.04, 0...</td>\n",
       "    </tr>\n",
       "    <tr>\n",
       "      <th>571921</th>\n",
       "      <td>brasilonreddit</td>\n",
       "      <td>roadcam</td>\n",
       "      <td>68ipe8s</td>\n",
       "      <td>2017-04-30 16:47:50</td>\n",
       "      <td>1</td>\n",
       "      <td>[0.0, 0.0, 0.0, 0.0, 0.0, 0.0, 0.0, 0.0, 0.0, ...</td>\n",
       "    </tr>\n",
       "    <tr>\n",
       "      <th>571892</th>\n",
       "      <td>brasilonreddit</td>\n",
       "      <td>bad_cop_no_donut</td>\n",
       "      <td>68ifuvs</td>\n",
       "      <td>2017-04-30 16:47:50</td>\n",
       "      <td>1</td>\n",
       "      <td>[0.027777777777777776, 0.027777777777777776, 0...</td>\n",
       "    </tr>\n",
       "  </tbody>\n",
       "</table>\n",
       "<p>571927 rows × 6 columns</p>\n",
       "</div>"
      ],
      "text/plain": [
       "        SOURCE_SUBREDDIT  TARGET_SUBREDDIT  POST_ID           TIMESTAMP  \\\n",
       "23             agitation      changemyview  1u5cj7s 2013-12-31 16:20:20   \n",
       "0             rddtgaming          rddtrust  1u4pzzs 2013-12-31 16:39:18   \n",
       "35        examplesofevil              pics  1u5lhas 2013-12-31 16:40:29   \n",
       "26      languagelearning       linguistics  1u5dkls 2013-12-31 17:41:16   \n",
       "1                xboxone     battlefield_4  1u4tmfs 2013-12-31 17:59:11   \n",
       "...                  ...               ...      ...                 ...   \n",
       "571894  peoplewhosayheck           re_zero  68igifs 2017-04-30 16:36:07   \n",
       "571908  peoplewhosayheck           divorce   68ijym 2017-04-30 16:36:07   \n",
       "571902  peoplewhosayheck           teenmom  68ii97s 2017-04-30 16:36:07   \n",
       "571921    brasilonreddit           roadcam  68ipe8s 2017-04-30 16:47:50   \n",
       "571892    brasilonreddit  bad_cop_no_donut  68ifuvs 2017-04-30 16:47:50   \n",
       "\n",
       "        LINK_SENTIMENT                                         PROPERTIES  \n",
       "23                   1  [0.0, 0.0, 0.0, 0.0, 0.0, 0.0, 0.0, 0.0, 0.066...  \n",
       "0                    1  [0.0, 0.0, 0.0, 0.0, 0.0, 0.0, 0.0, 0.0, 0.0, ...  \n",
       "35                   1  [0.125, 0.0, 0.0, 0.0, 0.0, 0.0, 0.0, 0.125, 0...  \n",
       "26                   1  [0.09090909090909091, 0.045454545454545456, 0....  \n",
       "1                    1  [0.058823529411764705, 0.058823529411764705, 0...  \n",
       "...                ...                                                ...  \n",
       "571894               1  [0.15789473684210525, 0.0, 0.0, 0.0, 0.0, 0.0,...  \n",
       "571908              -1  [0.07142857142857142, 0.07142857142857142, 0.0...  \n",
       "571902               1  [0.12, 0.08, 0.0, 0.0, 0.0, 0.08, 0.0, 0.04, 0...  \n",
       "571921               1  [0.0, 0.0, 0.0, 0.0, 0.0, 0.0, 0.0, 0.0, 0.0, ...  \n",
       "571892               1  [0.027777777777777776, 0.027777777777777776, 0...  \n",
       "\n",
       "[571927 rows x 6 columns]"
      ]
     },
     "execution_count": 4,
     "metadata": {},
     "output_type": "execute_result"
    }
   ],
   "source": [
    "title_df = pd.read_csv(PATH_TO_DATA/'soc-redditHyperlinks-title.tsv', sep='\\t', converters={'PROPERTIES': literal_eval})\n",
    "title_df['TIMESTAMP'] = pd.to_datetime(title_df.TIMESTAMP)\n",
    "title_df['PROPERTIES'] = title_df['PROPERTIES'].map(lambda x : np.array(x)[22:])\n",
    "title_df = title_df.sort_values(by='TIMESTAMP')\n",
    "title_df"
   ]
  },
  {
   "cell_type": "markdown",
   "id": "d49565de-1bd6-44ef-aae8-55ad2dedd36c",
   "metadata": {
    "tags": []
   },
   "source": [
    "## Create Similarity Matrix\n",
    "\n",
    "In order to create the **Similarity Matrix**, we should _extract_ the 'PROPERTIES' vectors and then we should _calculate the distances_ of all the posts (exploiting the simple dot product).\n",
    "\n",
    "This step should take"
   ]
  },
  {
   "cell_type": "code",
   "execution_count": 5,
   "id": "9ef808dc-c175-4cca-85ca-cc831fcea75c",
   "metadata": {
    "ExecuteTime": {
     "start_time": "2022-01-08T16:36:22.742Z"
    }
   },
   "outputs": [],
   "source": [
    "#articles = title_df[[x.year > 2016 for x in title_df['TIMESTAMP']]].reset_index().copy()\n",
    "articles = body_df[[x.year > 2016 for x in body_df['TIMESTAMP']]].reset_index().copy()\n",
    "docvs = np.array(list(articles['PROPERTIES'])).copy()\n",
    "del title_df, body_df"
   ]
  },
  {
   "cell_type": "markdown",
   "id": "cf99dd4d",
   "metadata": {},
   "source": [
    "Technically, these arrays have to be normalized.\n",
    "The fastest method found is this from sklearn.\n",
    "The main issue is that when computing the distance matrix, even when using sparse matrices, the computation is going to take up to ~30GB RAM.\n",
    "I'm trying to found alternative solutions, until then **DO NOT NORMALIZE THIS MATRIX!!**"
   ]
  },
  {
   "cell_type": "code",
   "execution_count": 6,
   "id": "d1580a65-d28d-4b01-ac6b-24e3d07a207e",
   "metadata": {},
   "outputs": [
    {
     "name": "stdout",
     "output_type": "stream",
     "text": [
      "Shape of normalized matrix is (36406, 64).\n",
      "Sum of normalized matrix is 157909.69647914692.\n"
     ]
    }
   ],
   "source": [
    "# # Alternative normalization procedure\n",
    "# row_sums = docvs.sum(axis=1)\n",
    "# docvs_norm = docvs / row_sums[:, np.newaxis]\n",
    "\n",
    "docvs_norm = normalize(docvs)\n",
    "print(\"Shape of normalized matrix is {}.\".format(docvs_norm.shape))\n",
    "print(\"Sum of normalized matrix is {}.\".format(np.sum(docvs_norm)))\n",
    "# s = csr_matrix(docvs_norm)\n",
    "# s_t = csr_matrix(docvs_norm).T\n",
    "# s.dot(s_t)"
   ]
  },
  {
   "cell_type": "markdown",
   "id": "5712f297",
   "metadata": {},
   "source": [
    "Computation of the distance matrix.\n",
    "The simple dot product is used between the matrix and its transpose."
   ]
  },
  {
   "cell_type": "code",
   "execution_count": 7,
   "id": "0bee5180-2a9b-40bb-9105-843e378effe2",
   "metadata": {},
   "outputs": [
    {
     "data": {
      "text/plain": [
       "array([[0.        , 0.10112578, 0.1173913 , ..., 0.10665386, 0.13507532,\n",
       "        0.13419748],\n",
       "       [0.        , 0.        , 0.10327381, ..., 0.09542719, 0.11580753,\n",
       "        0.12484284],\n",
       "       [0.        , 0.        , 0.        , ..., 0.1104512 , 0.13784893,\n",
       "        0.14159333],\n",
       "       ...,\n",
       "       [0.        , 0.        , 0.        , ..., 0.        , 0.12024059,\n",
       "        0.1255888 ],\n",
       "       [0.        , 0.        , 0.        , ..., 0.        , 0.        ,\n",
       "        0.15483371],\n",
       "       [0.        , 0.        , 0.        , ..., 0.        , 0.        ,\n",
       "        0.        ]])"
      ]
     },
     "execution_count": 7,
     "metadata": {},
     "output_type": "execute_result"
    }
   ],
   "source": [
    "# dists = np.dot(docvs_norm, docvs_norm.T)\n",
    "dists = np.dot(docvs, docvs.T)\n",
    "dists_triu = np.triu(dists, k=1)\n",
    "del docvs, dists\n",
    "dists_triu\n",
    "#np.savetxt('charlie_results/dists_triu.csv', dists_triu, delimiter=',')"
   ]
  },
  {
   "cell_type": "markdown",
   "id": "40624608",
   "metadata": {},
   "source": [
    "These methods, used for building the graph, have been extracted and adapted from [this repo](https://github.com/elisamussumeci/modeling-news-spread)."
   ]
  },
  {
   "cell_type": "code",
   "execution_count": 12,
   "id": "ad79ef81-343c-4ff8-abf8-44c3ebc17b1f",
   "metadata": {
    "ExecuteTime": {
     "end_time": "2022-01-08T16:32:36.476447Z",
     "start_time": "2022-01-08T16:32:36.427851Z"
    }
   },
   "outputs": [],
   "source": [
    "def get_pos(data, pub_i, column_list, time_max, sim_min, outs):\n",
    "    ans = False\n",
    "    pos = None\n",
    "\n",
    "    while ans is False:\n",
    "        sim = max(column_list)\n",
    "        pos = column_list.index(sim)\n",
    "        time_dif = (pub_i - data['TIMESTAMP'][pos]).total_seconds() / 3600\n",
    "        if sim < sim_min:\n",
    "            pos = None\n",
    "            ans = True\n",
    "        elif pos in outs or time_dif > time_max:\n",
    "            column_list[pos] = 0\n",
    "        else:\n",
    "            ans = True\n",
    "    return pos\n",
    "\n",
    "def create_graph(dists_triu, data, time_max=168, sim_min=0.8):\n",
    "    size = dists_triu.shape[0]\n",
    "    G = nx.DiGraph()\n",
    "    G.add_node(0, step=0, date=data['TIMESTAMP'][0], domain=data['SOURCE_SUBREDDIT'][0], _id=data['POST_ID'][0],\n",
    "              children=[])\n",
    "    outs = []\n",
    "    for i in range(1,size):\n",
    "        pub_i = data['TIMESTAMP'][i]\n",
    "        column = list(dists_triu[:, i])\n",
    "        pos = get_pos(data, pub_i, column, time_max, sim_min, outs)\n",
    "\n",
    "        if pos != None:\n",
    "            if pos not in G.nodes():\n",
    "                domain_1 = data['SOURCE_SUBREDDIT'][pos]\n",
    "                G.add_node(pos, date=data['TIMESTAMP'][pos], domain=domain_1,\n",
    "                           _id=data['POST_ID'][pos], children=[])\n",
    "            if i not in G.nodes():\n",
    "                domain_2 = data['SOURCE_SUBREDDIT'][i]\n",
    "                G.add_node(i, date=pub_i, domain=domain_2, _id=data['POST_ID'][i], children=[])\n",
    "\n",
    "            G.add_edge(pos, i)\n",
    "        else:\n",
    "            outs.append(i)\n",
    "    return G\n",
    "\n",
    "def create_date(pub1, pub2, s):\n",
    "    dif = (pub2-pub1).total_seconds()/3600\n",
    "    return round((dif/s))\n",
    "\n",
    "def create_graphml(dists_triu, data, time_max=168, sim_min=0.8):\n",
    "    size = dists_triu.shape[0]\n",
    "    G = nx.DiGraph()\n",
    "    G.add_node(0, step=0, date=0, domain=data['SOURCE_SUBREDDIT'][0])\n",
    "    date_init = data['TIMESTAMP'][0]\n",
    "    outs = []\n",
    "    for i in range(1, size):\n",
    "        pub_i = data['TIMESTAMP'][i]\n",
    "        column = list(dists_triu[:,i])\n",
    "        pos = get_pos(data, pub_i, column, time_max, sim_min, outs)\n",
    "\n",
    "        if pos != None:\n",
    "            if pos not in G.nodes():\n",
    "                domain_1 = data['SOURCE_SUBREDDIT'][pos]\n",
    "                date_1 = create_date(date_init, data['TIMESTAMP'], 5)\n",
    "                G.add_node(pos, date=date_1, domain=domain_1)\n",
    "            if i not in G.nodes():\n",
    "                domain_2 = data['SOURCE_SUBREDDIT'][i]\n",
    "                date_2 = create_date(date_init, pub_i, 5)\n",
    "                G.add_node(i, date=date_2, domain=domain_2)\n",
    "\n",
    "            G.add_edge(pos, i)\n",
    "        else:\n",
    "            outs.append(i)\n",
    "    return G"
   ]
  },
  {
   "cell_type": "markdown",
   "id": "4b2772fc",
   "metadata": {},
   "source": [
    "Creating, saving and drawing the Graphs instatiated using _networkX_ library.\n",
    "This step should take ~6min."
   ]
  },
  {
   "cell_type": "code",
   "execution_count": 13,
   "id": "dc06e015-eb6f-4088-9e70-b83ace836917",
   "metadata": {
    "ExecuteTime": {
     "end_time": "2022-01-08T16:32:39.201018Z",
     "start_time": "2022-01-08T16:32:39.189349Z"
    }
   },
   "outputs": [
    {
     "data": {
      "image/png": "[encoded data removed]",
      "text/plain": [
       "<Figure size 432x288 with 1 Axes>"
      ]
     },
     "metadata": {},
     "output_type": "display_data"
    }
   ],
   "source": [
    "G = create_graph(dists_triu, articles)\n",
    "nx.write_gpickle(G, '../data/empirical_graph.gpickle')\n",
    "nx.draw(G, with_labels=True, font_weight='bold')\n",
    "plt.show()\n",
    "H = create_graphml(dists_triu, articles)\n",
    "nx.write_graphml(H, '../data/empirical_graph.graphml')\n",
    "nx.draw(H, with_labels=True, font_weight='bold')\n",
    "empirical_nodes = G.nodes()\n",
    "np.savetxt('../data/empirical_graph_nodes.csv', empirical_nodes, delimiter=',')\n",
    "all_nodes_domains = []\n",
    "for i in empirical_nodes:\n",
    "    all_nodes_domains.append(G.node[i]['domain'])\n",
    "\n",
    "f = open('../data/graph_original_domains_each_node.txt', 'w')\n",
    "for item in all_nodes_domains:\n",
    "    f.write(\"%s\\n\" % item)"
   ]
  },
  {
   "cell_type": "code",
   "execution_count": null,
   "id": "c2220108",
   "metadata": {},
   "outputs": [],
   "source": []
  }
 ],
 "metadata": {
  "kernelspec": {
   "display_name": "Python 3",
   "language": "python",
   "name": "python3"
  },
  "language_info": {
   "codemirror_mode": {
    "name": "ipython",
    "version": 3
   },
   "file_extension": ".py",
   "mimetype": "text/x-python",
   "name": "python",
   "nbconvert_exporter": "python",
   "pygments_lexer": "ipython3",
   "version": "3.8.12"
  }
 },
 "nbformat": 4,
 "nbformat_minor": 5
}
