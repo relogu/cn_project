{
 "cells": [
  {
   "cell_type": "markdown",
   "id": "60ec5ae0",
   "metadata": {},
   "source": [
    "# Computing Simulated Graph"
   ]
  },
  {
   "cell_type": "code",
   "execution_count": 1,
   "id": "5747b823-cf56-4939-b9d5-8c86e64c94ac",
   "metadata": {
    "ExecuteTime": {
     "end_time": "2022-01-08T16:30:02.566159Z",
     "start_time": "2022-01-08T16:30:02.205349Z"
    }
   },
   "outputs": [],
   "source": [
    "import numpy as np\n",
    "import networkx as nx\n",
    "import matplotlib.pyplot as plt\n",
    "from scipy.stats import gaussian_kde\n",
    "from  pathlib import Path\n",
    "\n",
    "PATH_TO_DATA = Path('../data')"
   ]
  },
  {
   "cell_type": "code",
   "execution_count": 20,
   "id": "9eaabbfe",
   "metadata": {},
   "outputs": [],
   "source": [
    "def graph_simu_nx(Infects, G):\n",
    "    graph_sim = nx.DiGraph()\n",
    "\n",
    "    # initial infected indices\n",
    "    I_previous = np.where(Infects[:,0]==1)[0]\n",
    "\n",
    "    for i in I_previous:\n",
    "        graph_sim.add_node(i)\n",
    "\n",
    "    # list of elaborated articles indices\n",
    "    done = list(I_previous)\n",
    "\n",
    "    for status in Infects[:, 1:]:\n",
    "        I = list(np.where(status==1)[0])\n",
    "        I_current = I.copy()\n",
    "        for article in done:\n",
    "            if article in I_current:\n",
    "                I_current.remove(article)\n",
    "\n",
    "        if len(I_current) == 0:\n",
    "            continue\n",
    "\n",
    "        #se temos mais de uma possibilidade de pai\n",
    "        if len(I_previous) == 1:\n",
    "            for node in I_current:\n",
    "                graph_sim.add_edge(I_previous[0], node)\n",
    "                done.append(node)\n",
    "\n",
    "        else:\n",
    "            #calcular pai para cada no que foi infectado\n",
    "            for node in I_current:\n",
    "                #pegando a probabilidade de cada no ja infectado ter infectado o no node\n",
    "                influences = G[node]\n",
    "                probs = [influences[i] for i in I_previous]\n",
    "\n",
    "                if sum(probs) != 0 :\n",
    "                    probs = probs/sum(probs)\n",
    "                else:\n",
    "                    # se o no nao foi influenciado por ninguem entao nao pode ser influenciador\n",
    "                    Infects[node, :] = np.zeros(Infects.shape[1])\n",
    "                    done.append(node)\n",
    "                    continue\n",
    "\n",
    "                pos = np.random.choice(len(probs), 1, p=probs)\n",
    "                graph_sim.add_edge(I_previous[pos[0]], node)\n",
    "                done.append(node)\n",
    "        I_previous = I\n",
    "\n",
    "    return graph_sim"
   ]
  },
  {
   "cell_type": "code",
   "execution_count": 5,
   "id": "a3badfbc",
   "metadata": {},
   "outputs": [],
   "source": [
    "Infects = np.loadtxt(open(PATH_TO_DATA/'Infects.csv'), delimiter=\",\")\n",
    "G = np.loadtxt(open(PATH_TO_DATA/'graph_complete.csv'), delimiter=\",\")\n",
    "original_graph = nx.read_gpickle(PATH_TO_DATA/'empirical_graph.gpickle')"
   ]
  },
  {
   "cell_type": "code",
   "execution_count": 22,
   "id": "c0a18346",
   "metadata": {},
   "outputs": [],
   "source": [
    "ori_outs = [i[1] for i in original_graph.out_degree()]\n",
    "g_ori = gaussian_kde(ori_outs)\n",
    "\n",
    "graph_simulated = graph_simu_nx(Infects, G)\n",
    "nx.write_gpickle(graph_simulated, PATH_TO_DATA/'graph_simulated_nx.gpickle')\n",
    "sim_outs = [j[1] for j in graph_simulated.out_degree()]\n",
    "g_sim = gaussian_kde(sim_outs)"
   ]
  },
  {
   "cell_type": "code",
   "execution_count": 34,
   "id": "cace1db3",
   "metadata": {},
   "outputs": [
    {
     "data": {
      "image/png": "[encoded data removed]",
      "text/plain": [
       "<Figure size 432x288 with 1 Axes>"
      ]
     },
     "metadata": {
      "needs_background": "light"
     },
     "output_type": "display_data"
    }
   ],
   "source": [
    "limit = max(np.max(sim_outs), np.max(ori_outs))\n",
    "plt.hist(sim_outs, bins='auto', color='r', alpha=0.3)#, density=True, stacked=True)\n",
    "plt.hist(ori_outs, bins='auto', color='b', alpha=0.3)#, density=True, stacked=True)\n",
    "plt.plot(range(0, limit), g_sim.evaluate(range(limit)), color='r')\n",
    "plt.plot(range(0, limit), g_ori.evaluate(range(limit)), color='b')\n",
    "plt.xlim(0, limit)\n",
    "plt.savefig(PATH_TO_DATA/'graph_validation.png')\n",
    "plt.show()"
   ]
  },
  {
   "cell_type": "code",
   "execution_count": null,
   "id": "aada88ef",
   "metadata": {},
   "outputs": [],
   "source": []
  }
 ],
 "metadata": {
  "kernelspec": {
   "display_name": "Python 3 (ipykernel)",
   "language": "python",
   "name": "python3"
  },
  "language_info": {
   "codemirror_mode": {
    "name": "ipython",
    "version": 3
   },
   "file_extension": ".py",
   "mimetype": "text/x-python",
   "name": "python",
   "nbconvert_exporter": "python",
   "pygments_lexer": "ipython3",
   "version": "3.10.1"
  }
 },
 "nbformat": 4,
 "nbformat_minor": 5
}
